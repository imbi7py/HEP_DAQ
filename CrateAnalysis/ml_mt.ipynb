{
 "cells": [
  {
   "cell_type": "markdown",
   "metadata": {
    "slideshow": {
     "slide_type": "slide"
    }
   },
   "source": [
    "# Machine Learning and its application in Muon Tomography\n",
    "\n",
    "Machine Learning inspired techniques can be applied to Muon Tomography to resolve many of associated problems. The two problems of interest to us are *low resolution tomograms* and *data inefficiency*. In this notebook, I am discussing the use of ML as applied to MT to solve problem of data inefficiency. \n",
    "\n",
    "## Data Inefficiency Problem\n",
    "\n",
    "![pic](mt.jpeg)\n",
    "\n",
    "\n",
    "We define \"good muon events\" as events with 4 by 4 coincidence hits. Such events have defined spatial points in both top and bottom trays. For example, for the hit on the right the information\n",
    "$$ A (x_1,y_1) $$\n",
    "$$ B (x_2,y_2) $$\n",
    "\n",
    "are known. Due to limited capabilities of our instruments, such events are rare (less than $40\\%$ withour best set up) with many events following the trend of the hit on the left. \n",
    "\n",
    "$$ C (x_3,y_3) $$\n",
    "$$ D (x_4,?) $$\n",
    "\n",
    "We know that $y_4 \\in (y_{min}, y_{max})$ and is discernable by $y_{res}$ which is the limited hardware spatial resolution of the telescope. Now, the question is what this $y_4$ may be? \n",
    "\n",
    "Once we know how to address this question, we can reduce our data redundancy drastically and improve our overall resolution and efficiency of our schema."
   ]
  },
  {
   "cell_type": "markdown",
   "metadata": {
    "slideshow": {
     "slide_type": "subslide"
    }
   },
   "source": [
    "## Track reconstruction using non-perfect events\n",
    "\n",
    "Each event is assigned a probability that describes the likelihood of using information from that event to reconstruct the muon track. Such a scheme means that events with 4 by 4 coincidence hits have a probability of 1 and events with no hits have probability 0. Events with 3 by 4 hits are thus also assigned a probability.\n",
    "\n",
    "The way we assign this probability requires the use of some neural networks - *RNN's and LSTM's*. The idea is as follows:\n",
    "\n",
    "1. Contextualize the entire dataset into a RNN framework\n",
    "2. Calculate key statistics of overall dataset and individual events\n",
    "3. Locate events with missing information (i.e. not perfect 4 by 4 coincidence hits)\n",
    "4. Assign probabilities to candidates for the missing information using wholistic statistics, TDC data, and the angular distribution of muons.\n",
    "4. Use RNN's and LSTM's to predict the missing datum in 3 by 4 events using the probabilistic approach.\n"
   ]
  },
  {
   "cell_type": "markdown",
   "metadata": {
    "slideshow": {
     "slide_type": "subslide"
    }
   },
   "source": [
    "## Probability distribution of the muon hit of a single spatial dimension\n",
    "\n",
    "Using the coordinate with full information *(C in our case)* and the other spatial coordinate ($x_4$), we assign probabilites to each $y_i \\in (y_{min}, y_{max})$. Formally, it can be represented using Bayes' theorem.\n",
    "\n",
    "$$ P(y_4 = y_i | x_3,y_3,x_4)  $$\n",
    "\n",
    "Now, the question is how do we create such a probability distribution? What controlled/measured factors can help us make such decisions?\n",
    "\n",
    "### No information known\n",
    "\n",
    "When we know previous/extra information about the muon hit, one can imagine the distribution is uniform on the space of the spatial dimension.\n",
    "\n",
    "$$ P(y_4 = y_i | x_3,y_3,x_4) \\sim \\mathcal{U} (y_{min}, y_{max})  $$\n",
    "\n",
    "### One spatial coordinate and one single spatial dimension known\n",
    "\n",
    "The distribution for such a case is much more complicated. The following are some ways of generating the distribution.\n",
    "\n",
    "#### Exact Aggregate Data Approach\n",
    "\n",
    "In this approach, we simply assign the probabilities based on the most likely value from the set of \"good\" events that share the exact coordinates with the event under consideration. The probability simply becomes a fraction of the two aggregate type of events.\n",
    "\n",
    "- $P(y_4 = y_i) = \\frac{\\text{# of events with} y_i,x_3,y_3,x_4}{\\text{# of events with} x_3,y_3,x_4} $\n",
    "    \n",
    "#### Similar Aggregate Data Approach\n",
    "    \n",
    "We do a similar thing like the **Exact Aggregate Data Approach** with the added consideration of neighbors to influence the statistic.\n",
    "    \n",
    "#### Shift of TDC Approach  \n",
    "\n",
    "Since, we have demonstrated that TDC values are correlated with the transverse distance of the muon hit along the scintilator bar. It is possible to extrapolate 2D information from such values. In this approach, we do just that to determine the missing spatial dimension.\n",
    "- $P(y_4 = y_i) = $\n",
    "\n",
    "#### Most Common Angle Approach\n",
    "\n",
    "In this approach, we select the missing spatial dimension such that the angle resembles the most common angle. \n",
    "\n",
    "- $P(y_4 = y_i) = $ \n",
    "\n",
    "\n",
    "The best method should be some combination of all such approaches. This is where ML comes in. The ML scheme would work to solve for the coffecients that of such a weighted sum to **maximize** resolution of tomogram and **minimize** data inefficiency."
   ]
  }
 ],
 "metadata": {
  "kernelspec": {
   "display_name": "Python 3",
   "language": "python",
   "name": "python3"
  },
  "language_info": {
   "codemirror_mode": {
    "name": "ipython",
    "version": 3
   },
   "file_extension": ".py",
   "mimetype": "text/x-python",
   "name": "python",
   "nbconvert_exporter": "python",
   "pygments_lexer": "ipython3",
   "version": "3.8.3"
  },
  "toc": {
   "base_numbering": 1,
   "nav_menu": {},
   "number_sections": true,
   "sideBar": true,
   "skip_h1_title": false,
   "title_cell": "Table of Contents",
   "title_sidebar": "Contents",
   "toc_cell": false,
   "toc_position": {},
   "toc_section_display": true,
   "toc_window_display": true
  }
 },
 "nbformat": 4,
 "nbformat_minor": 4
}
