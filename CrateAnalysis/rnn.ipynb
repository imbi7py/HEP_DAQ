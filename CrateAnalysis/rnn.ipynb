{
 "cells": [
  {
   "cell_type": "markdown",
   "metadata": {},
   "source": [
    "# Recurrent Neural Networks and its application in Muon Tomography\n",
    "\n",
    "**Plan**\n",
    "- Study papers on traditional MT and implement reco algorithms\n",
    "- Study RNN and have practice implementations\n",
    "- Study related field that use Deep Learning for imaging\n",
    "- Apply learning to MT problem\n",
    "- Problems to resolve:\n",
    "    1. use of non-ideal data\n",
    "    2. higher resolution tomogram generation\n",
    "    3. incorporation of TDC in training and tomogram generation\n"
   ]
  },
  {
   "cell_type": "code",
   "execution_count": null,
   "metadata": {},
   "outputs": [],
   "source": []
  },
  {
   "cell_type": "markdown",
   "metadata": {},
   "source": [
    "### Lessons learned from related work:\n",
    "\n",
    "- **Paper: *A deep learning reconstruction framework for X-ray computed tomography with incomplete data***\n",
    "\n",
    "\n"
   ]
  },
  {
   "cell_type": "markdown",
   "metadata": {},
   "source": [
    "#### Important links for learning and implementing RNNs\n",
    "- https://towardsdatascience.com/recurrent-neural-networks-by-example-in-python-ffd204f99470\n",
    "- https://towardsdatascience.com/recurrent-neural-networks-rnns-3f06d7653a85\n",
    "- https://github.com/Site1997/RNN-implementation\n",
    "- https://www.tensorflow.org/guide/keras/rnn\n",
    "- https://www.freecodecamp.org/news/the-ultimate-guide-to-recurrent-neural-networks-in-python/\n",
    "- https://www.edureka.co/blog/recurrent-neural-networks/\n",
    "- https://pythonprogramming.net/rnn-tensorflow-python-machine-learning-tutorial/\n",
    "- https://towardsdatascience.com/implementing-recurrent-neural-network-using-numpy-c359a0a68a67\n",
    "- https://heartbeat.fritz.ai/a-beginners-guide-to-implementing-long-short-term-memory-networks-lstm-eb7a2ff09a27"
   ]
  }
 ],
 "metadata": {
  "kernelspec": {
   "display_name": "Python 3",
   "language": "python",
   "name": "python3"
  },
  "language_info": {
   "codemirror_mode": {
    "name": "ipython",
    "version": 3
   },
   "file_extension": ".py",
   "mimetype": "text/x-python",
   "name": "python",
   "nbconvert_exporter": "python",
   "pygments_lexer": "ipython3",
   "version": "3.8.3"
  }
 },
 "nbformat": 4,
 "nbformat_minor": 4
}
