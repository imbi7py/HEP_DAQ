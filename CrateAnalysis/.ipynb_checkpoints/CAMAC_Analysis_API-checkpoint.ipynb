{
 "cells": [
  {
   "cell_type": "markdown",
   "metadata": {},
   "source": [
    "# Tutorial for using the new analysis API\n",
    "\n",
    "This file outlines the various analysis API defined in the latest iteratation of the CAMAC software base. The flow of the program is as follows:\n",
    "1. Recorded data file is stored as .bin\n",
    "2. The .bin is processed by sas_analysis.py file to create .ftr file\n",
    "3. The following script is then used to read the .ftr file and create analysis plots"
   ]
  },
  {
   "cell_type": "code",
   "execution_count": 2,
   "metadata": {},
   "outputs": [],
   "source": [
    "# Needed libraries\n",
    "import feather\n",
    "import matplotlib.pyplot as plt\n",
    "import numpy as np\n",
    "import pandas as pd\n",
    "from pandas.plotting import andrews_curves\n",
    "import sys\n",
    "from MuonDataFrame import *"
   ]
  },
  {
   "cell_type": "markdown",
   "metadata": {},
   "source": [
    "## Dataframe \n",
    "\n",
    "The following are the query terms *(strings)* for the dataframe: **'event_num', 'event_time', 'deadtime', 'TDC_L1_L', 'TDC_L1_R','TDC_L2_L', 'TDC_L2_R', 'ADC', 'TDC' , 'numChannelsRead', 'L1_asym','L2_asym', 'L1_TDC_sum', 'L2_TDC_sum', 'L1_TDC_diff', 'L2_TDC_diff'**\n",
    "\n",
    "The following cell shows how to instantiate a MuonDataFrame object"
   ]
  },
  {
   "cell_type": "code",
   "execution_count": 3,
   "metadata": {},
   "outputs": [],
   "source": [
    "# variable storing the path to .ftr file\n",
    "ifile = \"processed_data/events_data_frame_510.ftr\"\n",
    "\n",
    "# pass on the path to the MuonDataFrame object\n",
    "mdf = MuonDataFrame(ifile)"
   ]
  },
  {
   "cell_type": "markdown",
   "metadata": {},
   "source": [
    "## MuonDataFrame Methods\n",
    "\n",
    "The following cell blocks explains the various methods accessible to the MuonDataFrame object\n",
    "\n",
    "### Displaying the data frame\n",
    "`MuonDataFrameObject.show()`"
   ]
  },
  {
   "cell_type": "code",
   "execution_count": 5,
   "metadata": {},
   "outputs": [
    {
     "name": "stdout",
     "output_type": "stream",
     "text": [
      "     event_num                 event_time  deadtime  TDC_L1_L  TDC_L1_R  \\\n",
      "0            0 2020-09-11 14:52:20.935820       931       NaN       NaN   \n",
      "1            1 2020-09-11 14:52:21.025908      1159     142.0     111.0   \n",
      "2            2 2020-09-11 14:52:21.145883      1205     113.0     124.0   \n",
      "3            3 2020-09-11 14:52:21.326215       964     139.0     114.0   \n",
      "4            4 2020-09-11 14:52:21.425936      1134       NaN       NaN   \n",
      "..         ...                        ...       ...       ...       ...   \n",
      "995        995 2020-09-11 14:54:07.257322       569     154.0     111.0   \n",
      "996        996 2020-09-11 14:54:07.337286       938     148.0     110.0   \n",
      "997        997 2020-09-11 14:54:07.447403      1069       NaN     145.0   \n",
      "998        998 2020-09-11 14:54:07.547309       736     111.0     118.0   \n",
      "999        999 2020-09-11 14:54:07.647397       454       NaN       NaN   \n",
      "\n",
      "     TDC_L2_L  TDC_L2_R                                              ADC  \\\n",
      "0         NaN       NaN    [1, 33, 34, 35, 31, 22, 28, 7, 8, 18, 18, 24]   \n",
      "1       136.0     106.0    [1, 33, 34, 35, 31, 22, 28, 7, 8, 18, 18, 24]   \n",
      "2         NaN       NaN    [1, 33, 34, 35, 31, 22, 28, 7, 9, 18, 18, 24]   \n",
      "3       132.0     114.0    [1, 33, 34, 35, 31, 22, 28, 7, 8, 18, 18, 24]   \n",
      "4         NaN       NaN    [1, 33, 34, 35, 31, 22, 28, 7, 8, 18, 18, 24]   \n",
      "..        ...       ...                                              ...   \n",
      "995     136.0       NaN    [1, 33, 34, 35, 31, 22, 28, 7, 8, 18, 18, 24]   \n",
      "996       NaN       NaN    [1, 33, 34, 35, 31, 22, 28, 7, 8, 18, 18, 24]   \n",
      "997       NaN       NaN    [1, 33, 34, 35, 31, 22, 28, 7, 9, 18, 18, 24]   \n",
      "998       NaN       NaN    [1, 33, 34, 35, 31, 22, 28, 7, 8, 18, 18, 24]   \n",
      "999       NaN       NaN  [145, 33, 34, 35, 31, 22, 28, 7, 8, 18, 18, 24]   \n",
      "\n",
      "                                                   TDC  numChannelsRead  \\\n",
      "0                                                 None                0   \n",
      "1    [[0, 142], [1, 111], [3, 21], [3, 136], [4, 25...                4   \n",
      "2                                 [[0, 113], [1, 124]]                2   \n",
      "3             [[0, 139], [1, 114], [3, 132], [4, 114]]                4   \n",
      "4                                                 None                0   \n",
      "..                                                 ...              ...   \n",
      "995                     [[0, 154], [1, 111], [3, 136]]                3   \n",
      "996                               [[0, 148], [1, 110]]                2   \n",
      "997                                         [[1, 145]]                1   \n",
      "998                               [[0, 111], [1, 118]]                2   \n",
      "999                                               None                0   \n",
      "\n",
      "       L1_asym    L2_asym  L1_TDC_sum  L2_TDC_sum  L1_TDC_diff  L2_TDC_diff  \n",
      "0          NaN        NaN         NaN         NaN          NaN          NaN  \n",
      "1    12.252964  12.396694       253.0       242.0         31.0         30.0  \n",
      "2    -4.641350        NaN       237.0         NaN        -11.0          NaN  \n",
      "3     9.881423   7.317073       253.0       246.0         25.0         18.0  \n",
      "4          NaN        NaN         NaN         NaN          NaN          NaN  \n",
      "..         ...        ...         ...         ...          ...          ...  \n",
      "995  16.226415        NaN       265.0         NaN         43.0          NaN  \n",
      "996  14.728682        NaN       258.0         NaN         38.0          NaN  \n",
      "997        NaN        NaN         NaN         NaN          NaN          NaN  \n",
      "998  -3.056769        NaN       229.0         NaN         -7.0          NaN  \n",
      "999        NaN        NaN         NaN         NaN          NaN          NaN  \n",
      "\n",
      "[1000 rows x 16 columns]\n"
     ]
    }
   ],
   "source": [
    "mdf.show()"
   ]
  },
  {
   "cell_type": "markdown",
   "metadata": {},
   "source": [
    "### Displaying the data frame summary\n",
    "`MuonDataFrameObject.summary()`"
   ]
  },
  {
   "cell_type": "code",
   "execution_count": 6,
   "metadata": {},
   "outputs": [
    {
     "name": "stdout",
     "output_type": "stream",
     "text": [
      "<class 'pandas.core.frame.DataFrame'>\n",
      "RangeIndex: 1000 entries, 0 to 999\n",
      "Data columns (total 16 columns):\n",
      " #   Column           Non-Null Count  Dtype         \n",
      "---  ------           --------------  -----         \n",
      " 0   event_num        1000 non-null   int64         \n",
      " 1   event_time       1000 non-null   datetime64[ns]\n",
      " 2   deadtime         1000 non-null   int64         \n",
      " 3   TDC_L1_L         623 non-null    float64       \n",
      " 4   TDC_L1_R         644 non-null    float64       \n",
      " 5   TDC_L2_L         394 non-null    float64       \n",
      " 6   TDC_L2_R         404 non-null    float64       \n",
      " 7   ADC              1000 non-null   object        \n",
      " 8   TDC              743 non-null    object        \n",
      " 9   numChannelsRead  1000 non-null   int64         \n",
      " 10  L1_asym          585 non-null    float64       \n",
      " 11  L2_asym          356 non-null    float64       \n",
      " 12  L1_TDC_sum       585 non-null    float64       \n",
      " 13  L2_TDC_sum       356 non-null    float64       \n",
      " 14  L1_TDC_diff      585 non-null    float64       \n",
      " 15  L2_TDC_diff      356 non-null    float64       \n",
      "dtypes: datetime64[ns](1), float64(10), int64(3), object(2)\n",
      "memory usage: 125.1+ KB\n",
      "None\n"
     ]
    }
   ],
   "source": [
    "mdf.summary()"
   ]
  },
  {
   "cell_type": "markdown",
   "metadata": {},
   "source": [
    "### Displaying the information contained in a particular query term\n",
    "`MuonDataFrameObject.lookAt(queryTerm)`\n",
    "\n",
    "The following cell shows the example for the *TDC* term"
   ]
  },
  {
   "cell_type": "code",
   "execution_count": 7,
   "metadata": {},
   "outputs": [
    {
     "name": "stdout",
     "output_type": "stream",
     "text": [
      "0                                                   None\n",
      "1      [[0, 142], [1, 111], [3, 21], [3, 136], [4, 25...\n",
      "2                                   [[0, 113], [1, 124]]\n",
      "3               [[0, 139], [1, 114], [3, 132], [4, 114]]\n",
      "4                                                   None\n",
      "                             ...                        \n",
      "995                       [[0, 154], [1, 111], [3, 136]]\n",
      "996                                 [[0, 148], [1, 110]]\n",
      "997                                           [[1, 145]]\n",
      "998                                 [[0, 111], [1, 118]]\n",
      "999                                                 None\n",
      "Name: TDC, Length: 1000, dtype: object\n"
     ]
    }
   ],
   "source": [
    "mdf.lookAt('TDC')"
   ]
  },
  {
   "cell_type": "markdown",
   "metadata": {},
   "source": [
    "### Displaying the sumarry of the information contained in a particular query term\n",
    "`MuonDataFrameObject.getStats(queryTerm)`\n",
    "\n",
    "The following cell shows the example for the *deadtime* term"
   ]
  },
  {
   "cell_type": "code",
   "execution_count": 8,
   "metadata": {},
   "outputs": [
    {
     "name": "stdout",
     "output_type": "stream",
     "text": [
      "count    1000.000000\n",
      "mean      976.118000\n",
      "std       610.428824\n",
      "min       357.000000\n",
      "25%       575.500000\n",
      "50%       891.000000\n",
      "75%      1094.750000\n",
      "max      3508.000000\n",
      "Name: deadtime, dtype: float64\n"
     ]
    }
   ],
   "source": [
    "mdf.getStats(\"deadtime\")"
   ]
  },
  {
   "cell_type": "markdown",
   "metadata": {},
   "source": [
    "### Displaying the information contained in a particular event/events\n",
    "\n",
    "`MuonDataFrameObject.getEventInfo([begin_event_num, end_event_num])` or `MuonDataFrameObject.getEventInfo(event_num)`\n",
    "\n"
   ]
  },
  {
   "cell_type": "code",
   "execution_count": 13,
   "metadata": {},
   "outputs": [
    {
     "name": "stdout",
     "output_type": "stream",
     "text": [
      "     event_num                 event_time  deadtime  TDC_L1_L  TDC_L1_R  \\\n",
      "832        832 2020-09-11 14:53:51.365576       917     147.0     112.0   \n",
      "\n",
      "     TDC_L2_L  TDC_L2_R                                            ADC  \\\n",
      "832       NaN       NaN  [1, 33, 34, 35, 31, 22, 28, 7, 8, 18, 18, 24]   \n",
      "\n",
      "                      TDC  numChannelsRead    L1_asym  L2_asym  L1_TDC_sum  \\\n",
      "832  [[0, 147], [1, 112]]                2  13.513514      NaN       259.0   \n",
      "\n",
      "     L2_TDC_sum  L1_TDC_diff  L2_TDC_diff  \n",
      "832         NaN         35.0          NaN  \n"
     ]
    }
   ],
   "source": [
    "mdf.getEventInfo(832)"
   ]
  },
  {
   "cell_type": "code",
   "execution_count": null,
   "metadata": {},
   "outputs": [],
   "source": []
  }
 ],
 "metadata": {
  "kernelspec": {
   "display_name": "Python 3",
   "language": "python",
   "name": "python3"
  },
  "language_info": {
   "codemirror_mode": {
    "name": "ipython",
    "version": 3
   },
   "file_extension": ".py",
   "mimetype": "text/x-python",
   "name": "python",
   "nbconvert_exporter": "python",
   "pygments_lexer": "ipython3",
   "version": "3.8.3"
  }
 },
 "nbformat": 4,
 "nbformat_minor": 4
}
